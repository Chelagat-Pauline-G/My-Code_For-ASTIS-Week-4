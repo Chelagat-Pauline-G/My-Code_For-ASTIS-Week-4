{
  "nbformat": 4,
  "nbformat_minor": 0,
  "metadata": {
    "colab": {
      "name": "ASTI Week 4: UNIVERSAL_AI_DIPLOMA_TEMPLATE_____RASA_____RNN_CHATBOT",
      "provenance": [],
      "collapsed_sections": [],
      "include_colab_link": true
    },
    "kernelspec": {
      "display_name": "Python 3",
      "name": "python3"
    },
    "language_info": {
      "name": "python"
    },
    "accelerator": "GPU"
  },
  "cells": [
    {
      "cell_type": "markdown",
      "metadata": {
        "id": "view-in-github",
        "colab_type": "text"
      },
      "source": [
        "<a href=\"https://colab.research.google.com/github/Chelagat-Pauline-G/My-Code_For-ASTIS-Week-4-Recurrent-Artificial-Neural-Networks-or-Transformers/blob/main/ASTI_Week_4_UNIVERSAL_AI_DIPLOMA_TEMPLATE_____RASA_____RNN_CHATBOT.ipynb\" target=\"_parent\"><img src=\"https://colab.research.google.com/assets/colab-badge.svg\" alt=\"Open In Colab\"/></a>"
      ]
    },
    {
      "cell_type": "markdown",
      "metadata": {
        "id": "O_4inZqRQJ0t"
      },
      "source": [
        "# Modified by God Bennett to remove setup errors, and give the bot ability to respond to medicine inquiries.\n",
        "\n",
        "Your goal: Change the bot to respond to a topic of your choice. Follow instructions here: https://medium.com/@godquestbennett/universal-ai-diploma-ibm-cloud-assistant-recurrent-neural-network-alternative-e42ce4d02a6d\n",
        "\n",
        "# Note: Before running any cell, be sure to change the chatbot as directed above to customize it based on your topic.\n",
        "\n"
      ]
    },
    {
      "cell_type": "markdown",
      "source": [
        "Original: https://medium.com/analytics-vidhya/building-a-rasa-chat-bot-on-google-colab-2ff6ac02dd26"
      ],
      "metadata": {
        "id": "slt9lMfOh00w"
      }
    },
    {
      "cell_type": "code",
      "metadata": {
        "colab": {
          "base_uri": "https://localhost:8080/"
        },
        "id": "fnltCoO6SUI8",
        "outputId": "694a3570-01fe-432e-aa25-81b8ccb9a59a"
      },
      "source": [
        "!pip install nest_asyncio==1.3.3"
      ],
      "execution_count": null,
      "outputs": [
        {
          "output_type": "stream",
          "name": "stdout",
          "text": [
            "Requirement already satisfied: nest_asyncio==1.3.3 in /usr/local/lib/python3.7/dist-packages (1.3.3)\n"
          ]
        }
      ]
    },
    {
      "cell_type": "code",
      "source": [
        "!pip uninstall tensorflow"
      ],
      "metadata": {
        "colab": {
          "base_uri": "https://localhost:8080/"
        },
        "id": "VOvps8nnjcPP",
        "outputId": "d08354a6-14f5-41a8-c796-8e0d1b21aa07"
      },
      "execution_count": null,
      "outputs": [
        {
          "output_type": "stream",
          "name": "stdout",
          "text": [
            "Found existing installation: tensorflow 1.13.2\n",
            "Uninstalling tensorflow-1.13.2:\n",
            "  Would remove:\n",
            "    /usr/local/bin/freeze_graph\n",
            "    /usr/local/bin/saved_model_cli\n",
            "    /usr/local/bin/tensorboard\n",
            "    /usr/local/bin/tf_upgrade_v2\n",
            "    /usr/local/bin/tflite_convert\n",
            "    /usr/local/bin/toco\n",
            "    /usr/local/bin/toco_from_protos\n",
            "    /usr/local/lib/python3.7/dist-packages/tensorflow-1.13.2.dist-info/*\n",
            "    /usr/local/lib/python3.7/dist-packages/tensorflow/*\n",
            "Proceed (y/n)? y\n",
            "  Successfully uninstalled tensorflow-1.13.2\n"
          ]
        }
      ]
    },
    {
      "cell_type": "code",
      "metadata": {
        "colab": {
          "base_uri": "https://localhost:8080/"
        },
        "id": "eA0eQR2haCUa",
        "outputId": "f3d2d3bb-91d6-4fc7-f855-02a2ffbe7ac2"
      },
      "source": [
        "!pip install rasa_nlu[spacy]  #restart runtime after installation and rerun previous cells.\n"
      ],
      "execution_count": null,
      "outputs": [
        {
          "output_type": "stream",
          "name": "stdout",
          "text": [
            "Requirement already satisfied: rasa_nlu[spacy] in /usr/local/lib/python3.7/dist-packages (0.15.1)\n",
            "Requirement already satisfied: jsonschema~=2.6 in /usr/local/lib/python3.7/dist-packages (from rasa_nlu[spacy]) (2.6.0)\n",
            "Requirement already satisfied: tqdm~=4.19 in /usr/local/lib/python3.7/dist-packages (from rasa_nlu[spacy]) (4.62.3)\n",
            "Requirement already satisfied: requests~=2.20 in /usr/local/lib/python3.7/dist-packages (from rasa_nlu[spacy]) (2.23.0)\n",
            "Requirement already satisfied: simplejson~=3.13 in /usr/local/lib/python3.7/dist-packages (from rasa_nlu[spacy]) (3.17.6)\n",
            "Requirement already satisfied: typing~=3.6 in /usr/local/lib/python3.7/dist-packages (from rasa_nlu[spacy]) (3.7.4.3)\n",
            "Requirement already satisfied: cloudpickle~=0.6.1 in /usr/local/lib/python3.7/dist-packages (from rasa_nlu[spacy]) (0.6.1)\n",
            "Requirement already satisfied: packaging~=18.0 in /usr/local/lib/python3.7/dist-packages (from rasa_nlu[spacy]) (18.0)\n",
            "Requirement already satisfied: gevent~=1.3 in /usr/local/lib/python3.7/dist-packages (from rasa_nlu[spacy]) (1.5.0)\n",
            "Requirement already satisfied: future~=0.17.1 in /usr/local/lib/python3.7/dist-packages (from rasa_nlu[spacy]) (0.17.1)\n",
            "Requirement already satisfied: matplotlib~=2.2 in /usr/local/lib/python3.7/dist-packages (from rasa_nlu[spacy]) (2.2.5)\n",
            "Requirement already satisfied: numpy>=1.16 in /usr/local/lib/python3.7/dist-packages (from rasa_nlu[spacy]) (1.19.5)\n",
            "Requirement already satisfied: coloredlogs~=10.0 in /usr/local/lib/python3.7/dist-packages (from rasa_nlu[spacy]) (10.0)\n",
            "Requirement already satisfied: boto3~=1.9 in /usr/local/lib/python3.7/dist-packages (from rasa_nlu[spacy]) (1.20.53)\n",
            "Requirement already satisfied: klein~=17.10 in /usr/local/lib/python3.7/dist-packages (from rasa_nlu[spacy]) (17.10.0)\n",
            "Requirement already satisfied: scikit-learn~=0.20.2 in /usr/local/lib/python3.7/dist-packages (from rasa_nlu[spacy]) (0.20.4)\n",
            "Requirement already satisfied: ruamel.yaml~=0.15.7 in /usr/local/lib/python3.7/dist-packages (from rasa_nlu[spacy]) (0.15.100)\n",
            "Requirement already satisfied: scipy~=1.2 in /usr/local/lib/python3.7/dist-packages (from rasa_nlu[spacy]) (1.4.1)\n",
            "Requirement already satisfied: sklearn-crfsuite~=0.3.6 in /usr/local/lib/python3.7/dist-packages (from rasa_nlu[spacy]) (0.3.6)\n",
            "Requirement already satisfied: spacy<=2.0.18,>2.0 in /usr/local/lib/python3.7/dist-packages (from rasa_nlu[spacy]) (2.0.18)\n",
            "Requirement already satisfied: botocore<1.24.0,>=1.23.53 in /usr/local/lib/python3.7/dist-packages (from boto3~=1.9->rasa_nlu[spacy]) (1.23.53)\n",
            "Requirement already satisfied: s3transfer<0.6.0,>=0.5.0 in /usr/local/lib/python3.7/dist-packages (from boto3~=1.9->rasa_nlu[spacy]) (0.5.1)\n",
            "Requirement already satisfied: jmespath<1.0.0,>=0.7.1 in /usr/local/lib/python3.7/dist-packages (from boto3~=1.9->rasa_nlu[spacy]) (0.10.0)\n",
            "Requirement already satisfied: python-dateutil<3.0.0,>=2.1 in /usr/local/lib/python3.7/dist-packages (from botocore<1.24.0,>=1.23.53->boto3~=1.9->rasa_nlu[spacy]) (2.8.2)\n",
            "Requirement already satisfied: urllib3<1.27,>=1.25.4 in /usr/local/lib/python3.7/dist-packages (from botocore<1.24.0,>=1.23.53->boto3~=1.9->rasa_nlu[spacy]) (1.25.11)\n",
            "Requirement already satisfied: humanfriendly>=4.7 in /usr/local/lib/python3.7/dist-packages (from coloredlogs~=10.0->rasa_nlu[spacy]) (10.0)\n",
            "Requirement already satisfied: greenlet>=0.4.14 in /usr/local/lib/python3.7/dist-packages (from gevent~=1.3->rasa_nlu[spacy]) (1.1.2)\n",
            "Requirement already satisfied: werkzeug in /usr/local/lib/python3.7/dist-packages (from klein~=17.10->rasa_nlu[spacy]) (1.0.1)\n",
            "Requirement already satisfied: six in /usr/local/lib/python3.7/dist-packages (from klein~=17.10->rasa_nlu[spacy]) (1.15.0)\n",
            "Requirement already satisfied: incremental in /usr/local/lib/python3.7/dist-packages (from klein~=17.10->rasa_nlu[spacy]) (21.3.0)\n",
            "Requirement already satisfied: Twisted>=15.5 in /usr/local/lib/python3.7/dist-packages (from klein~=17.10->rasa_nlu[spacy]) (22.1.0)\n",
            "Requirement already satisfied: pytz in /usr/local/lib/python3.7/dist-packages (from matplotlib~=2.2->rasa_nlu[spacy]) (2018.9)\n",
            "Requirement already satisfied: cycler>=0.10 in /usr/local/lib/python3.7/dist-packages (from matplotlib~=2.2->rasa_nlu[spacy]) (0.11.0)\n",
            "Requirement already satisfied: kiwisolver>=1.0.1 in /usr/local/lib/python3.7/dist-packages (from matplotlib~=2.2->rasa_nlu[spacy]) (1.3.2)\n",
            "Requirement already satisfied: pyparsing!=2.0.4,!=2.1.2,!=2.1.6,>=2.0.1 in /usr/local/lib/python3.7/dist-packages (from matplotlib~=2.2->rasa_nlu[spacy]) (3.0.7)\n",
            "Requirement already satisfied: certifi>=2017.4.17 in /usr/local/lib/python3.7/dist-packages (from requests~=2.20->rasa_nlu[spacy]) (2021.10.8)\n",
            "Requirement already satisfied: chardet<4,>=3.0.2 in /usr/local/lib/python3.7/dist-packages (from requests~=2.20->rasa_nlu[spacy]) (3.0.4)\n",
            "Requirement already satisfied: idna<3,>=2.5 in /usr/local/lib/python3.7/dist-packages (from requests~=2.20->rasa_nlu[spacy]) (2.10)\n",
            "Requirement already satisfied: tabulate in /usr/local/lib/python3.7/dist-packages (from sklearn-crfsuite~=0.3.6->rasa_nlu[spacy]) (0.8.9)\n",
            "Requirement already satisfied: python-crfsuite>=0.8.3 in /usr/local/lib/python3.7/dist-packages (from sklearn-crfsuite~=0.3.6->rasa_nlu[spacy]) (0.9.7)\n",
            "Requirement already satisfied: cymem<2.1.0,>=2.0.2 in /usr/local/lib/python3.7/dist-packages (from spacy<=2.0.18,>2.0->rasa_nlu[spacy]) (2.0.6)\n",
            "Requirement already satisfied: ujson>=1.35 in /usr/local/lib/python3.7/dist-packages (from spacy<=2.0.18,>2.0->rasa_nlu[spacy]) (5.1.0)\n",
            "Requirement already satisfied: preshed<2.1.0,>=2.0.1 in /usr/local/lib/python3.7/dist-packages (from spacy<=2.0.18,>2.0->rasa_nlu[spacy]) (2.0.1)\n",
            "Requirement already satisfied: regex==2018.01.10 in /usr/local/lib/python3.7/dist-packages (from spacy<=2.0.18,>2.0->rasa_nlu[spacy]) (2018.1.10)\n",
            "Requirement already satisfied: murmurhash<1.1.0,>=0.28.0 in /usr/local/lib/python3.7/dist-packages (from spacy<=2.0.18,>2.0->rasa_nlu[spacy]) (1.0.6)\n",
            "Requirement already satisfied: dill<0.3,>=0.2 in /usr/local/lib/python3.7/dist-packages (from spacy<=2.0.18,>2.0->rasa_nlu[spacy]) (0.2.9)\n",
            "Requirement already satisfied: thinc<6.13.0,>=6.12.1 in /usr/local/lib/python3.7/dist-packages (from spacy<=2.0.18,>2.0->rasa_nlu[spacy]) (6.12.1)\n",
            "Requirement already satisfied: plac<1.0.0,>=0.9.6 in /usr/local/lib/python3.7/dist-packages (from spacy<=2.0.18,>2.0->rasa_nlu[spacy]) (0.9.6)\n",
            "Requirement already satisfied: cytoolz<0.10,>=0.9.0 in /usr/local/lib/python3.7/dist-packages (from thinc<6.13.0,>=6.12.1->spacy<=2.0.18,>2.0->rasa_nlu[spacy]) (0.9.0.1)\n",
            "Requirement already satisfied: msgpack-numpy<0.4.4 in /usr/local/lib/python3.7/dist-packages (from thinc<6.13.0,>=6.12.1->spacy<=2.0.18,>2.0->rasa_nlu[spacy]) (0.4.3.2)\n",
            "Requirement already satisfied: wrapt<1.11.0,>=1.10.0 in /usr/local/lib/python3.7/dist-packages (from thinc<6.13.0,>=6.12.1->spacy<=2.0.18,>2.0->rasa_nlu[spacy]) (1.10.11)\n",
            "Requirement already satisfied: msgpack<0.6.0,>=0.5.6 in /usr/local/lib/python3.7/dist-packages (from thinc<6.13.0,>=6.12.1->spacy<=2.0.18,>2.0->rasa_nlu[spacy]) (0.5.6)\n",
            "Requirement already satisfied: toolz>=0.8.0 in /usr/local/lib/python3.7/dist-packages (from cytoolz<0.10,>=0.9.0->thinc<6.13.0,>=6.12.1->spacy<=2.0.18,>2.0->rasa_nlu[spacy]) (0.11.2)\n",
            "Requirement already satisfied: zope.interface>=4.4.2 in /usr/local/lib/python3.7/dist-packages (from Twisted>=15.5->klein~=17.10->rasa_nlu[spacy]) (5.4.0)\n",
            "Requirement already satisfied: constantly>=15.1 in /usr/local/lib/python3.7/dist-packages (from Twisted>=15.5->klein~=17.10->rasa_nlu[spacy]) (15.1.0)\n",
            "Requirement already satisfied: typing-extensions>=3.6.5 in /usr/local/lib/python3.7/dist-packages (from Twisted>=15.5->klein~=17.10->rasa_nlu[spacy]) (3.10.0.2)\n",
            "Requirement already satisfied: Automat>=0.8.0 in /usr/local/lib/python3.7/dist-packages (from Twisted>=15.5->klein~=17.10->rasa_nlu[spacy]) (20.2.0)\n",
            "Requirement already satisfied: attrs>=19.2.0 in /usr/local/lib/python3.7/dist-packages (from Twisted>=15.5->klein~=17.10->rasa_nlu[spacy]) (21.4.0)\n",
            "Requirement already satisfied: hyperlink>=17.1.1 in /usr/local/lib/python3.7/dist-packages (from Twisted>=15.5->klein~=17.10->rasa_nlu[spacy]) (21.0.0)\n",
            "Requirement already satisfied: setuptools in /usr/local/lib/python3.7/dist-packages (from zope.interface>=4.4.2->Twisted>=15.5->klein~=17.10->rasa_nlu[spacy]) (57.4.0)\n"
          ]
        }
      ]
    },
    {
      "cell_type": "code",
      "metadata": {
        "colab": {
          "base_uri": "https://localhost:8080/"
        },
        "id": "vi-wAAb3bAXv",
        "outputId": "dc0da694-f62b-4c61-dd8a-baa04446a6f9"
      },
      "source": [
        "\n",
        "!pip install rasa_core"
      ],
      "execution_count": null,
      "outputs": [
        {
          "output_type": "stream",
          "name": "stdout",
          "text": [
            "Requirement already satisfied: rasa_core in /usr/local/lib/python3.7/dist-packages (0.14.5)\n",
            "Requirement already satisfied: coloredlogs~=10.0 in /usr/local/lib/python3.7/dist-packages (from rasa_core) (10.0)\n",
            "Requirement already satisfied: scikit-learn~=0.20.0 in /usr/local/lib/python3.7/dist-packages (from rasa_core) (0.20.4)\n",
            "Requirement already satisfied: numpy~=1.16 in /usr/local/lib/python3.7/dist-packages (from rasa_core) (1.19.5)\n",
            "Requirement already satisfied: pydot~=1.4 in /usr/local/lib/python3.7/dist-packages (from rasa_core) (1.4.2)\n",
            "Requirement already satisfied: python-socketio~=3.0 in /usr/local/lib/python3.7/dist-packages (from rasa_core) (3.1.2)\n",
            "Requirement already satisfied: flask-jwt-simple~=0.0.3 in /usr/local/lib/python3.7/dist-packages (from rasa_core) (0.0.3)\n",
            "Requirement already satisfied: pika~=0.12.0 in /usr/local/lib/python3.7/dist-packages (from rasa_core) (0.12.0)\n",
            "Requirement already satisfied: flask~=1.0 in /usr/local/lib/python3.7/dist-packages (from rasa_core) (1.1.4)\n",
            "Requirement already satisfied: jsonschema~=2.6 in /usr/local/lib/python3.7/dist-packages (from rasa_core) (2.6.0)\n",
            "Requirement already satisfied: pymongo~=3.7 in /usr/local/lib/python3.7/dist-packages (from rasa_core) (3.12.3)\n",
            "Requirement already satisfied: slackclient~=1.0 in /usr/local/lib/python3.7/dist-packages (from rasa_core) (1.3.2)\n",
            "Requirement already satisfied: packaging~=18.0 in /usr/local/lib/python3.7/dist-packages (from rasa_core) (18.0)\n",
            "Requirement already satisfied: tqdm~=4.0 in /usr/local/lib/python3.7/dist-packages (from rasa_core) (4.62.3)\n",
            "Requirement already satisfied: typing~=3.0 in /usr/local/lib/python3.7/dist-packages (from rasa_core) (3.7.4.3)\n",
            "Requirement already satisfied: flask-cors~=3.0 in /usr/local/lib/python3.7/dist-packages (from rasa_core) (3.0.10)\n",
            "Requirement already satisfied: scipy~=1.2 in /usr/local/lib/python3.7/dist-packages (from rasa_core) (1.4.1)\n",
            "Requirement already satisfied: mattermostwrapper~=2.0 in /usr/local/lib/python3.7/dist-packages (from rasa_core) (2.2)\n",
            "Requirement already satisfied: networkx~=2.2 in /usr/local/lib/python3.7/dist-packages (from rasa_core) (2.6.3)\n",
            "Requirement already satisfied: rocketchat-API~=0.6.0 in /usr/local/lib/python3.7/dist-packages (from rasa_core) (0.6.36)\n",
            "Requirement already satisfied: colorhash~=1.0 in /usr/local/lib/python3.7/dist-packages (from rasa_core) (1.0.4)\n",
            "Requirement already satisfied: colorclass~=2.2 in /usr/local/lib/python3.7/dist-packages (from rasa_core) (2.2.2)\n",
            "Requirement already satisfied: python-telegram-bot~=11.0 in /usr/local/lib/python3.7/dist-packages (from rasa_core) (11.1.0)\n",
            "Requirement already satisfied: ruamel.yaml~=0.15.0 in /usr/local/lib/python3.7/dist-packages (from rasa_core) (0.15.100)\n",
            "Collecting tensorflow~=1.13.0\n",
            "  Using cached tensorflow-1.13.2-cp37-cp37m-manylinux1_x86_64.whl (92.7 MB)\n",
            "Requirement already satisfied: redis~=2.0 in /usr/local/lib/python3.7/dist-packages (from rasa_core) (2.10.6)\n",
            "Requirement already satisfied: terminaltables~=3.1 in /usr/local/lib/python3.7/dist-packages (from rasa_core) (3.1.10)\n",
            "Requirement already satisfied: apscheduler~=3.0 in /usr/local/lib/python3.7/dist-packages (from rasa_core) (3.8.1)\n",
            "Requirement already satisfied: rasa-nlu~=0.15 in /usr/local/lib/python3.7/dist-packages (from rasa_core) (0.15.1)\n",
            "Requirement already satisfied: requests~=2.20 in /usr/local/lib/python3.7/dist-packages (from rasa_core) (2.23.0)\n",
            "Requirement already satisfied: jsonpickle~=1.0 in /usr/local/lib/python3.7/dist-packages (from rasa_core) (1.5.2)\n",
            "Requirement already satisfied: fakeredis~=0.10.0 in /usr/local/lib/python3.7/dist-packages (from rasa_core) (0.10.3)\n",
            "Requirement already satisfied: twilio~=6.0 in /usr/local/lib/python3.7/dist-packages (from rasa_core) (6.63.2)\n",
            "Requirement already satisfied: gevent~=1.3 in /usr/local/lib/python3.7/dist-packages (from rasa_core) (1.5.0)\n",
            "Requirement already satisfied: pykwalify~=1.7.0 in /usr/local/lib/python3.7/dist-packages (from rasa_core) (1.7.0)\n",
            "Requirement already satisfied: rasa-core-sdk~=0.14 in /usr/local/lib/python3.7/dist-packages (from rasa_core) (0.14.0)\n",
            "Requirement already satisfied: webexteamssdk~=1.0 in /usr/local/lib/python3.7/dist-packages (from rasa_core) (1.6)\n",
            "Requirement already satisfied: python-dateutil~=2.7 in /usr/local/lib/python3.7/dist-packages (from rasa_core) (2.8.2)\n",
            "Requirement already satisfied: questionary>=1.0.1 in /usr/local/lib/python3.7/dist-packages (from rasa_core) (1.10.0)\n",
            "Requirement already satisfied: fbmessenger~=5.0 in /usr/local/lib/python3.7/dist-packages (from rasa_core) (5.6.0)\n",
            "Requirement already satisfied: pytz~=2018.9 in /usr/local/lib/python3.7/dist-packages (from rasa_core) (2018.9)\n",
            "Requirement already satisfied: six>=1.4.0 in /usr/local/lib/python3.7/dist-packages (from apscheduler~=3.0->rasa_core) (1.15.0)\n",
            "Requirement already satisfied: setuptools>=0.7 in /usr/local/lib/python3.7/dist-packages (from apscheduler~=3.0->rasa_core) (57.4.0)\n",
            "Requirement already satisfied: tzlocal!=3.*,>=2.0 in /usr/local/lib/python3.7/dist-packages (from apscheduler~=3.0->rasa_core) (4.1)\n",
            "Requirement already satisfied: humanfriendly>=4.7 in /usr/local/lib/python3.7/dist-packages (from coloredlogs~=10.0->rasa_core) (10.0)\n",
            "Requirement already satisfied: Werkzeug<2.0,>=0.15 in /usr/local/lib/python3.7/dist-packages (from flask~=1.0->rasa_core) (1.0.1)\n",
            "Requirement already satisfied: Jinja2<3.0,>=2.10.1 in /usr/local/lib/python3.7/dist-packages (from flask~=1.0->rasa_core) (2.11.3)\n",
            "Requirement already satisfied: click<8.0,>=5.1 in /usr/local/lib/python3.7/dist-packages (from flask~=1.0->rasa_core) (7.1.2)\n",
            "Requirement already satisfied: itsdangerous<2.0,>=0.24 in /usr/local/lib/python3.7/dist-packages (from flask~=1.0->rasa_core) (1.1.0)\n",
            "Requirement already satisfied: PyJWT in /usr/local/lib/python3.7/dist-packages (from flask-jwt-simple~=0.0.3->rasa_core) (1.7.1)\n",
            "Requirement already satisfied: greenlet>=0.4.14 in /usr/local/lib/python3.7/dist-packages (from gevent~=1.3->rasa_core) (1.1.2)\n",
            "Requirement already satisfied: MarkupSafe>=0.23 in /usr/local/lib/python3.7/dist-packages (from Jinja2<3.0,>=2.10.1->flask~=1.0->rasa_core) (2.0.1)\n",
            "Requirement already satisfied: importlib-metadata in /usr/local/lib/python3.7/dist-packages (from jsonpickle~=1.0->rasa_core) (4.10.1)\n",
            "Requirement already satisfied: pyparsing>=2.0.2 in /usr/local/lib/python3.7/dist-packages (from packaging~=18.0->rasa_core) (3.0.7)\n",
            "Requirement already satisfied: docopt>=0.6.2 in /usr/local/lib/python3.7/dist-packages (from pykwalify~=1.7.0->rasa_core) (0.6.2)\n",
            "Requirement already satisfied: PyYAML>=3.11 in /usr/local/lib/python3.7/dist-packages (from pykwalify~=1.7.0->rasa_core) (3.13)\n",
            "Requirement already satisfied: python-engineio>=3.2.0 in /usr/local/lib/python3.7/dist-packages (from python-socketio~=3.0->rasa_core) (4.3.1)\n",
            "Requirement already satisfied: certifi in /usr/local/lib/python3.7/dist-packages (from python-telegram-bot~=11.0->rasa_core) (2021.10.8)\n",
            "Requirement already satisfied: cryptography in /usr/local/lib/python3.7/dist-packages (from python-telegram-bot~=11.0->rasa_core) (36.0.1)\n",
            "Requirement already satisfied: future>=0.16.0 in /usr/local/lib/python3.7/dist-packages (from python-telegram-bot~=11.0->rasa_core) (0.17.1)\n",
            "Requirement already satisfied: prompt_toolkit<4.0,>=2.0 in /usr/local/lib/python3.7/dist-packages (from questionary>=1.0.1->rasa_core) (3.0.27)\n",
            "Requirement already satisfied: wcwidth in /usr/local/lib/python3.7/dist-packages (from prompt_toolkit<4.0,>=2.0->questionary>=1.0.1->rasa_core) (0.2.5)\n",
            "Requirement already satisfied: ConfigArgParse~=0.13.0 in /usr/local/lib/python3.7/dist-packages (from rasa-core-sdk~=0.14->rasa_core) (0.13.0)\n",
            "Requirement already satisfied: matplotlib~=2.2 in /usr/local/lib/python3.7/dist-packages (from rasa-nlu~=0.15->rasa_core) (2.2.5)\n",
            "Requirement already satisfied: boto3~=1.9 in /usr/local/lib/python3.7/dist-packages (from rasa-nlu~=0.15->rasa_core) (1.20.53)\n",
            "Requirement already satisfied: klein~=17.10 in /usr/local/lib/python3.7/dist-packages (from rasa-nlu~=0.15->rasa_core) (17.10.0)\n",
            "Requirement already satisfied: simplejson~=3.13 in /usr/local/lib/python3.7/dist-packages (from rasa-nlu~=0.15->rasa_core) (3.17.6)\n",
            "Requirement already satisfied: cloudpickle~=0.6.1 in /usr/local/lib/python3.7/dist-packages (from rasa-nlu~=0.15->rasa_core) (0.6.1)\n",
            "Requirement already satisfied: jmespath<1.0.0,>=0.7.1 in /usr/local/lib/python3.7/dist-packages (from boto3~=1.9->rasa-nlu~=0.15->rasa_core) (0.10.0)\n",
            "Requirement already satisfied: s3transfer<0.6.0,>=0.5.0 in /usr/local/lib/python3.7/dist-packages (from boto3~=1.9->rasa-nlu~=0.15->rasa_core) (0.5.1)\n",
            "Requirement already satisfied: botocore<1.24.0,>=1.23.53 in /usr/local/lib/python3.7/dist-packages (from boto3~=1.9->rasa-nlu~=0.15->rasa_core) (1.23.53)\n",
            "Requirement already satisfied: urllib3<1.27,>=1.25.4 in /usr/local/lib/python3.7/dist-packages (from botocore<1.24.0,>=1.23.53->boto3~=1.9->rasa-nlu~=0.15->rasa_core) (1.25.11)\n",
            "Requirement already satisfied: Twisted>=15.5 in /usr/local/lib/python3.7/dist-packages (from klein~=17.10->rasa-nlu~=0.15->rasa_core) (22.1.0)\n",
            "Requirement already satisfied: incremental in /usr/local/lib/python3.7/dist-packages (from klein~=17.10->rasa-nlu~=0.15->rasa_core) (21.3.0)\n",
            "Requirement already satisfied: kiwisolver>=1.0.1 in /usr/local/lib/python3.7/dist-packages (from matplotlib~=2.2->rasa-nlu~=0.15->rasa_core) (1.3.2)\n",
            "Requirement already satisfied: cycler>=0.10 in /usr/local/lib/python3.7/dist-packages (from matplotlib~=2.2->rasa-nlu~=0.15->rasa_core) (0.11.0)\n",
            "Requirement already satisfied: chardet<4,>=3.0.2 in /usr/local/lib/python3.7/dist-packages (from requests~=2.20->rasa_core) (3.0.4)\n",
            "Requirement already satisfied: idna<3,>=2.5 in /usr/local/lib/python3.7/dist-packages (from requests~=2.20->rasa_core) (2.10)\n",
            "Requirement already satisfied: websocket-client<0.55.0,>=0.35 in /usr/local/lib/python3.7/dist-packages (from slackclient~=1.0->rasa_core) (0.54.0)\n",
            "Requirement already satisfied: tensorboard<1.14.0,>=1.13.0 in /usr/local/lib/python3.7/dist-packages (from tensorflow~=1.13.0->rasa_core) (1.13.1)\n",
            "Requirement already satisfied: termcolor>=1.1.0 in /usr/local/lib/python3.7/dist-packages (from tensorflow~=1.13.0->rasa_core) (1.1.0)\n",
            "Requirement already satisfied: wheel>=0.26 in /usr/local/lib/python3.7/dist-packages (from tensorflow~=1.13.0->rasa_core) (0.37.1)\n",
            "Requirement already satisfied: grpcio>=1.8.6 in /usr/local/lib/python3.7/dist-packages (from tensorflow~=1.13.0->rasa_core) (1.43.0)\n",
            "Requirement already satisfied: absl-py>=0.1.6 in /usr/local/lib/python3.7/dist-packages (from tensorflow~=1.13.0->rasa_core) (1.0.0)\n",
            "Requirement already satisfied: keras-preprocessing>=1.0.5 in /usr/local/lib/python3.7/dist-packages (from tensorflow~=1.13.0->rasa_core) (1.1.2)\n",
            "Requirement already satisfied: tensorflow-estimator<1.14.0rc0,>=1.13.0 in /usr/local/lib/python3.7/dist-packages (from tensorflow~=1.13.0->rasa_core) (1.13.0)\n",
            "Requirement already satisfied: keras-applications>=1.0.6 in /usr/local/lib/python3.7/dist-packages (from tensorflow~=1.13.0->rasa_core) (1.0.8)\n",
            "Requirement already satisfied: astor>=0.6.0 in /usr/local/lib/python3.7/dist-packages (from tensorflow~=1.13.0->rasa_core) (0.8.1)\n",
            "Requirement already satisfied: gast>=0.2.0 in /usr/local/lib/python3.7/dist-packages (from tensorflow~=1.13.0->rasa_core) (0.4.0)\n",
            "Requirement already satisfied: protobuf>=3.6.1 in /usr/local/lib/python3.7/dist-packages (from tensorflow~=1.13.0->rasa_core) (3.17.3)\n",
            "Requirement already satisfied: h5py in /usr/local/lib/python3.7/dist-packages (from keras-applications>=1.0.6->tensorflow~=1.13.0->rasa_core) (2.10.0)\n",
            "Requirement already satisfied: markdown>=2.6.8 in /usr/local/lib/python3.7/dist-packages (from tensorboard<1.14.0,>=1.13.0->tensorflow~=1.13.0->rasa_core) (3.3.6)\n",
            "Requirement already satisfied: zipp>=0.5 in /usr/local/lib/python3.7/dist-packages (from importlib-metadata->jsonpickle~=1.0->rasa_core) (3.7.0)\n",
            "Requirement already satisfied: typing-extensions>=3.6.4 in /usr/local/lib/python3.7/dist-packages (from importlib-metadata->jsonpickle~=1.0->rasa_core) (3.10.0.2)\n",
            "Requirement already satisfied: mock>=2.0.0 in /usr/local/lib/python3.7/dist-packages (from tensorflow-estimator<1.14.0rc0,>=1.13.0->tensorflow~=1.13.0->rasa_core) (4.0.3)\n",
            "Requirement already satisfied: zope.interface>=4.4.2 in /usr/local/lib/python3.7/dist-packages (from Twisted>=15.5->klein~=17.10->rasa-nlu~=0.15->rasa_core) (5.4.0)\n",
            "Requirement already satisfied: Automat>=0.8.0 in /usr/local/lib/python3.7/dist-packages (from Twisted>=15.5->klein~=17.10->rasa-nlu~=0.15->rasa_core) (20.2.0)\n",
            "Requirement already satisfied: constantly>=15.1 in /usr/local/lib/python3.7/dist-packages (from Twisted>=15.5->klein~=17.10->rasa-nlu~=0.15->rasa_core) (15.1.0)\n",
            "Requirement already satisfied: attrs>=19.2.0 in /usr/local/lib/python3.7/dist-packages (from Twisted>=15.5->klein~=17.10->rasa-nlu~=0.15->rasa_core) (21.4.0)\n",
            "Requirement already satisfied: hyperlink>=17.1.1 in /usr/local/lib/python3.7/dist-packages (from Twisted>=15.5->klein~=17.10->rasa-nlu~=0.15->rasa_core) (21.0.0)\n",
            "Requirement already satisfied: pytz-deprecation-shim in /usr/local/lib/python3.7/dist-packages (from tzlocal!=3.*,>=2.0->apscheduler~=3.0->rasa_core) (0.1.0.post0)\n",
            "Requirement already satisfied: backports.zoneinfo in /usr/local/lib/python3.7/dist-packages (from tzlocal!=3.*,>=2.0->apscheduler~=3.0->rasa_core) (0.2.1)\n",
            "Requirement already satisfied: requests-toolbelt in /usr/local/lib/python3.7/dist-packages (from webexteamssdk~=1.0->rasa_core) (0.9.1)\n",
            "Requirement already satisfied: cffi>=1.12 in /usr/local/lib/python3.7/dist-packages (from cryptography->python-telegram-bot~=11.0->rasa_core) (1.15.0)\n",
            "Requirement already satisfied: pycparser in /usr/local/lib/python3.7/dist-packages (from cffi>=1.12->cryptography->python-telegram-bot~=11.0->rasa_core) (2.21)\n",
            "Requirement already satisfied: tzdata in /usr/local/lib/python3.7/dist-packages (from pytz-deprecation-shim->tzlocal!=3.*,>=2.0->apscheduler~=3.0->rasa_core) (2021.5)\n",
            "Installing collected packages: tensorflow\n",
            "\u001b[31mERROR: pip's dependency resolver does not currently take into account all the packages that are installed. This behaviour is the source of the following dependency conflicts.\n",
            "kapre 0.3.7 requires tensorflow>=2.0.0, but you have tensorflow 1.13.2 which is incompatible.\u001b[0m\n",
            "Successfully installed tensorflow-1.13.2\n"
          ]
        }
      ]
    },
    {
      "cell_type": "code",
      "metadata": {
        "colab": {
          "base_uri": "https://localhost:8080/"
        },
        "id": "na7dvpL2tuuc",
        "outputId": "ec5ff622-6f11-46a9-d2c6-1581a24b1566"
      },
      "source": [
        "pip install -U ipython #restart runtime after installation and rerun previous cells."
      ],
      "execution_count": null,
      "outputs": [
        {
          "output_type": "stream",
          "name": "stdout",
          "text": [
            "Requirement already satisfied: ipython in /usr/local/lib/python3.7/dist-packages (7.31.1)\n",
            "Requirement already satisfied: backcall in /usr/local/lib/python3.7/dist-packages (from ipython) (0.2.0)\n",
            "Requirement already satisfied: matplotlib-inline in /usr/local/lib/python3.7/dist-packages (from ipython) (0.1.3)\n",
            "Requirement already satisfied: pygments in /usr/local/lib/python3.7/dist-packages (from ipython) (2.6.1)\n",
            "Requirement already satisfied: setuptools>=18.5 in /usr/local/lib/python3.7/dist-packages (from ipython) (57.4.0)\n",
            "Requirement already satisfied: decorator in /usr/local/lib/python3.7/dist-packages (from ipython) (4.4.2)\n",
            "Requirement already satisfied: pexpect>4.3 in /usr/local/lib/python3.7/dist-packages (from ipython) (4.8.0)\n",
            "Requirement already satisfied: prompt-toolkit!=3.0.0,!=3.0.1,<3.1.0,>=2.0.0 in /usr/local/lib/python3.7/dist-packages (from ipython) (3.0.27)\n",
            "Requirement already satisfied: traitlets>=4.2 in /usr/local/lib/python3.7/dist-packages (from ipython) (5.1.1)\n",
            "Requirement already satisfied: jedi>=0.16 in /usr/local/lib/python3.7/dist-packages (from ipython) (0.18.1)\n",
            "Requirement already satisfied: pickleshare in /usr/local/lib/python3.7/dist-packages (from ipython) (0.7.5)\n",
            "Requirement already satisfied: parso<0.9.0,>=0.8.0 in /usr/local/lib/python3.7/dist-packages (from jedi>=0.16->ipython) (0.8.3)\n",
            "Requirement already satisfied: ptyprocess>=0.5 in /usr/local/lib/python3.7/dist-packages (from pexpect>4.3->ipython) (0.7.0)\n",
            "Requirement already satisfied: wcwidth in /usr/local/lib/python3.7/dist-packages (from prompt-toolkit!=3.0.0,!=3.0.1,<3.1.0,>=2.0.0->ipython) (0.2.5)\n"
          ]
        }
      ]
    },
    {
      "cell_type": "markdown",
      "metadata": {
        "id": "5dKOnShnQgmX"
      },
      "source": [
        "Import rasa_core, rasa_nlu spacy and sys\n",
        "\n"
      ]
    },
    {
      "cell_type": "code",
      "metadata": {
        "id": "9Fe3sBaQTTl2",
        "colab": {
          "base_uri": "https://localhost:8080/"
        },
        "outputId": "c868aa92-e796-4e94-cc2b-cef55e416b17"
      },
      "source": [
        "import rasa_core\n",
        "import rasa_nlu\n",
        "import spacy"
      ],
      "execution_count": null,
      "outputs": [
        {
          "output_type": "stream",
          "name": "stderr",
          "text": [
            "/usr/lib/python3.7/importlib/_bootstrap.py:219: RuntimeWarning: greenlet.greenlet size changed, may indicate binary incompatibility. Expected 144 from C header, got 152 from PyObject\n",
            "  return f(*args, **kwds)\n",
            "/usr/lib/python3.7/importlib/_bootstrap.py:219: RuntimeWarning: greenlet.greenlet size changed, may indicate binary incompatibility. Expected 144 from C header, got 152 from PyObject\n",
            "  return f(*args, **kwds)\n",
            "/usr/lib/python3.7/importlib/_bootstrap.py:219: RuntimeWarning: greenlet.greenlet size changed, may indicate binary incompatibility. Expected 144 from C header, got 152 from PyObject\n",
            "  return f(*args, **kwds)\n",
            "/usr/lib/python3.7/importlib/_bootstrap.py:219: RuntimeWarning: greenlet.greenlet size changed, may indicate binary incompatibility. Expected 144 from C header, got 152 from PyObject\n",
            "  return f(*args, **kwds)\n",
            "/usr/lib/python3.7/importlib/_bootstrap.py:219: RuntimeWarning: greenlet.greenlet size changed, may indicate binary incompatibility. Expected 144 from C header, got 152 from PyObject\n",
            "  return f(*args, **kwds)\n",
            "/usr/lib/python3.7/importlib/_bootstrap.py:219: RuntimeWarning: greenlet.greenlet size changed, may indicate binary incompatibility. Expected 144 from C header, got 152 from PyObject\n",
            "  return f(*args, **kwds)\n",
            "/usr/local/lib/python3.7/dist-packages/tensorflow/python/framework/dtypes.py:526: FutureWarning: Passing (type, 1) or '1type' as a synonym of type is deprecated; in a future version of numpy, it will be understood as (type, (1,)) / '(1,)type'.\n",
            "  _np_qint8 = np.dtype([(\"qint8\", np.int8, 1)])\n",
            "/usr/local/lib/python3.7/dist-packages/tensorflow/python/framework/dtypes.py:527: FutureWarning: Passing (type, 1) or '1type' as a synonym of type is deprecated; in a future version of numpy, it will be understood as (type, (1,)) / '(1,)type'.\n",
            "  _np_quint8 = np.dtype([(\"quint8\", np.uint8, 1)])\n",
            "/usr/local/lib/python3.7/dist-packages/tensorflow/python/framework/dtypes.py:528: FutureWarning: Passing (type, 1) or '1type' as a synonym of type is deprecated; in a future version of numpy, it will be understood as (type, (1,)) / '(1,)type'.\n",
            "  _np_qint16 = np.dtype([(\"qint16\", np.int16, 1)])\n",
            "/usr/local/lib/python3.7/dist-packages/tensorflow/python/framework/dtypes.py:529: FutureWarning: Passing (type, 1) or '1type' as a synonym of type is deprecated; in a future version of numpy, it will be understood as (type, (1,)) / '(1,)type'.\n",
            "  _np_quint16 = np.dtype([(\"quint16\", np.uint16, 1)])\n",
            "/usr/local/lib/python3.7/dist-packages/tensorflow/python/framework/dtypes.py:530: FutureWarning: Passing (type, 1) or '1type' as a synonym of type is deprecated; in a future version of numpy, it will be understood as (type, (1,)) / '(1,)type'.\n",
            "  _np_qint32 = np.dtype([(\"qint32\", np.int32, 1)])\n",
            "/usr/local/lib/python3.7/dist-packages/tensorflow/python/framework/dtypes.py:535: FutureWarning: Passing (type, 1) or '1type' as a synonym of type is deprecated; in a future version of numpy, it will be understood as (type, (1,)) / '(1,)type'.\n",
            "  np_resource = np.dtype([(\"resource\", np.ubyte, 1)])\n"
          ]
        }
      ]
    },
    {
      "cell_type": "code",
      "metadata": {
        "id": "s6t_iVs3bMHt"
      },
      "source": [
        "import sys\n",
        "python = sys.executable"
      ],
      "execution_count": null,
      "outputs": []
    },
    {
      "cell_type": "markdown",
      "metadata": {
        "id": "NT2yPS2GQsjh"
      },
      "source": [
        "download en_core_web_md, a medium-sized english model trained on written web text."
      ]
    },
    {
      "cell_type": "code",
      "metadata": {
        "colab": {
          "base_uri": "https://localhost:8080/"
        },
        "id": "dlAxEnncnXCB",
        "outputId": "d38de6ed-932b-494f-b96d-b5befa402664"
      },
      "source": [
        "!python -m spacy download en_core_web_md"
      ],
      "execution_count": null,
      "outputs": [
        {
          "output_type": "stream",
          "name": "stdout",
          "text": [
            "Collecting en_core_web_md==2.0.0\n",
            "  Downloading https://github.com/explosion/spacy-models/releases/download/en_core_web_md-2.0.0/en_core_web_md-2.0.0.tar.gz (120.8 MB)\n",
            "\u001b[K     |████████████████████████████████| 120.8 MB 5.7 MB/s \n",
            "\u001b[?25h\n",
            "\u001b[93m    Linking successful\u001b[0m\n",
            "    /usr/local/lib/python3.7/dist-packages/en_core_web_md -->\n",
            "    /usr/local/lib/python3.7/dist-packages/spacy/data/en_core_web_md\n",
            "\n",
            "    You can now load the model via spacy.load('en_core_web_md')\n",
            "\n"
          ]
        }
      ]
    },
    {
      "cell_type": "markdown",
      "metadata": {
        "id": "PWiAfbaWRdUz"
      },
      "source": [
        "Declearation of intent and sample words/phrases/sentences which refer to the intention decleared, which will be stored inside nlu.md. In other words, these are sample phrases whcih the chatbot will learn from for each intent."
      ]
    },
    {
      "cell_type": "code",
      "metadata": {
        "id": "nOjwGdZLndBN",
        "colab": {
          "base_uri": "https://localhost:8080/"
        },
        "outputId": "d0d1781a-76a9-4c84-a598-b5a7f383f8b8"
      },
      "source": [
        "# 1. Section_Intent\n",
        "# Writing various intents with examples to nlu.md file\n",
        "\n",
        "nlu_md = \"\"\"\n",
        "## intent:greet\n",
        "- hey\n",
        "- hello there\n",
        "- hi\n",
        "- hello there\n",
        "- good morning\n",
        "- good evening\n",
        "- how far\n",
        "- hey there\n",
        "- whats up\n",
        "- hey dude\n",
        "- goodmorning\n",
        "- goodevening\n",
        "- good afternoon\n",
        "\n",
        "## intent:goodbye\n",
        "- good by\n",
        "- later\n",
        "- good night\n",
        "- good afternoon\n",
        "- bye\n",
        "- goodbye\n",
        "- have a nice day\n",
        "- see you around\n",
        "- bye bye\n",
        "- see you later\n",
        "\n",
        "## intent:supermarket \n",
        "- Where is the closest supermarket?\n",
        "- When does the supermarket open?\n",
        "\t\t\t\n",
        "\n",
        "\n",
        "## intent:directions\n",
        "- how do i get to\n",
        "- i need to get to\n",
        "- is there a bus to\n",
        "- how i go take reach\n",
        "- I need directions to\n",
        "- how do i get a cab\n",
        "- where can i get a taxi\n",
        "- where can i get a bus\n",
        "-i need to get somewhere\n",
        "-I am going somewhere\n",
        "\n",
        "## intent:choosing_item\n",
        "- 1\n",
        "- 2\n",
        "- 3\n",
        "- 4\n",
        "- 5\n",
        "- 6\n",
        "- 7\n",
        "\n",
        "## intent:accomodation_enquiry\n",
        "- Where is the nearest hotel ?\n",
        "- is there a hotel near by ?\n",
        "- shey hotel they this area ?\n",
        "- Where i fit crash for here ?\n",
        "- i want to get to a hotel\n",
        "- i need to get to a hotel\n",
        "- where can i spend the night ?\n",
        "\n",
        "## intent: restaurant_enquiry\n",
        "- i need to get food\n",
        "- i am hungry\n",
        "- where is the restaurant ?\n",
        "- is there a restaurant ?\n",
        "- where can i get water ?\n",
        "- where i fit buy food for here ?\n",
        "- is there a food court nearby ?\n",
        "- where them they sell food ?\n",
        "- I want chop\n",
        "- where is the nearest shop?\n",
        "- where can i eat ?\n",
        "- i need to eat \n",
        "- are there eatries around ?\n",
        "- where can i buy snacks ?\n",
        "- I want to buy food\n",
        "\n",
        "\n",
        "## intent:toilet_enquiry\n",
        "- i neeed to pee\n",
        "- where is the rest room?\n",
        "- where is the toilet\n",
        "- is there a nearby toilet?\n",
        "- i they find toilet\n",
        "- where is the bathroom\n",
        "- i need to use the bathroom\n",
        "- where can i pee\n",
        "- i want peace\n",
        "- i am pressed\n",
        "\n",
        "\n",
        " \n",
        "\n",
        "\"\"\"\n",
        "\n",
        "\n",
        "%store nlu_md >nlu.md"
      ],
      "execution_count": null,
      "outputs": [
        {
          "output_type": "stream",
          "name": "stdout",
          "text": [
            "Writing 'nlu_md' (str) to file 'nlu.md'.\n"
          ]
        }
      ]
    },
    {
      "cell_type": "markdown",
      "metadata": {
        "id": "ovpaAACTSSTY"
      },
      "source": [
        "Setting up our configuration for our pipeline and policies"
      ]
    },
    {
      "cell_type": "code",
      "metadata": {
        "colab": {
          "base_uri": "https://localhost:8080/"
        },
        "id": "wmfWtkbsuZ0i",
        "outputId": "d430917e-a46f-4405-b0ec-6e47fdd163a4"
      },
      "source": [
        "# Adding the NLU components to the pipeline in config.yml file\n",
        "config = \"\"\"\n",
        "language: \"en_core_web_md\"\n",
        "\n",
        "pipeline:\n",
        "- name: \"nlp_spacy\"                   # loads the spacy language model\n",
        "- name: \"tokenizer_spacy\"             # splits the sentence into tokens\n",
        "- name: \"ner_crf\"                     # uses the pretrained spacy NER model\n",
        "- name: \"intent_featurizer_spacy\"     # transform the sentence into a vector representation\n",
        "- name: \"intent_classifier_sklearn\"   # uses the vector representation to classify using SVM\n",
        "- name: \"ner_synonyms\"                # trains the synonyms\n",
        "\n",
        "policies:\n",
        "- name: \"RulePolicy\"\n",
        "  # Confidence threshold for the `core_fallback_action_name` to apply.\n",
        "  # The action will apply if no other action was predicted with\n",
        "  # a confidence >= core_fallback_threshold\n",
        "  core_fallback_threshold: 0.68\n",
        "  core_fallback_action_name: \"action_default_fallback\"\n",
        "  enable_fallback_prediction: True\n",
        "\n",
        "\n",
        "\"\"\" \n",
        "\n",
        "%store config >config.yml"
      ],
      "execution_count": null,
      "outputs": [
        {
          "output_type": "stream",
          "name": "stdout",
          "text": [
            "Writing 'config' (str) to file 'config.yml'.\n"
          ]
        }
      ]
    },
    {
      "cell_type": "markdown",
      "metadata": {
        "id": "LqYxBhUyrsar"
      },
      "source": [
        "# Training the model\n",
        "Import the load_data and config modules so as to load the training data file and config file respectiely, which would be fed to the Trainer module to train the model."
      ]
    },
    {
      "cell_type": "code",
      "metadata": {
        "colab": {
          "base_uri": "https://localhost:8080/"
        },
        "id": "-6kTAyc_wjrI",
        "outputId": "e3a7c7d7-b23c-4793-f39d-5623d5a4d380"
      },
      "source": [
        "# Import modules for training\n",
        "from rasa_nlu.training_data import load_data\n",
        "from rasa_nlu.config import RasaNLUModelConfig\n",
        "from rasa_nlu.model import Trainer\n",
        "from rasa_nlu import config\n",
        "\n",
        "# loading the nlu training samples\n",
        "training_data = load_data(\"nlu.md\")\n",
        "trainer = Trainer(config.load(\"config.yml\"))\n",
        "\n",
        "# training the nlu\n",
        "interpreter = trainer.train(training_data)\n",
        "model_directory = trainer.persist(\"./models/nlu\", fixed_model_name=\"current\")"
      ],
      "execution_count": null,
      "outputs": [
        {
          "output_type": "stream",
          "name": "stdout",
          "text": [
            "Fitting 2 folds for each of 6 candidates, totalling 12 fits\n"
          ]
        },
        {
          "output_type": "stream",
          "name": "stderr",
          "text": [
            "[Parallel(n_jobs=1)]: Using backend SequentialBackend with 1 concurrent workers.\n",
            "/usr/local/lib/python3.7/dist-packages/sklearn/metrics/classification.py:1143: UndefinedMetricWarning: F-score is ill-defined and being set to 0.0 in labels with no predicted samples.\n",
            "  'precision', 'predicted', average, warn_for)\n",
            "/usr/local/lib/python3.7/dist-packages/sklearn/metrics/classification.py:1143: UndefinedMetricWarning: F-score is ill-defined and being set to 0.0 in labels with no predicted samples.\n",
            "  'precision', 'predicted', average, warn_for)\n",
            "/usr/local/lib/python3.7/dist-packages/sklearn/metrics/classification.py:1143: UndefinedMetricWarning: F-score is ill-defined and being set to 0.0 in labels with no predicted samples.\n",
            "  'precision', 'predicted', average, warn_for)\n",
            "/usr/local/lib/python3.7/dist-packages/sklearn/metrics/classification.py:1143: UndefinedMetricWarning: F-score is ill-defined and being set to 0.0 in labels with no predicted samples.\n",
            "  'precision', 'predicted', average, warn_for)\n",
            "/usr/local/lib/python3.7/dist-packages/sklearn/metrics/classification.py:1143: UndefinedMetricWarning: F-score is ill-defined and being set to 0.0 in labels with no predicted samples.\n",
            "  'precision', 'predicted', average, warn_for)\n",
            "/usr/local/lib/python3.7/dist-packages/sklearn/metrics/classification.py:1143: UndefinedMetricWarning: F-score is ill-defined and being set to 0.0 in labels with no predicted samples.\n",
            "  'precision', 'predicted', average, warn_for)\n",
            "[Parallel(n_jobs=1)]: Done  12 out of  12 | elapsed:    0.1s finished\n"
          ]
        }
      ]
    },
    {
      "cell_type": "markdown",
      "metadata": {
        "id": "y2FilhqAr74r"
      },
      "source": [
        "Testing our model.\n",
        "The aim is to see how well it can predict intents, this would be then use to determind the appropriate response."
      ]
    },
    {
      "cell_type": "code",
      "metadata": {
        "colab": {
          "base_uri": "https://localhost:8080/"
        },
        "id": "McY2G4Gjwp3T",
        "outputId": "49dbba4f-7b39-45bf-ed65-0a29d1ea079a"
      },
      "source": [
        " # Testing the NLU model with an input message\n",
        "\n",
        "import json\n",
        "def pprint(o):   \n",
        "    print(json.dumps(o, indent=2))\n",
        "\n",
        "pprint(interpreter.parse(\"x\"))"
      ],
      "execution_count": null,
      "outputs": [
        {
          "output_type": "stream",
          "name": "stdout",
          "text": [
            "{\n",
            "  \"intent\": {\n",
            "    \"name\": \"choosing_item\",\n",
            "    \"confidence\": 0.3007420581625478\n",
            "  },\n",
            "  \"entities\": [],\n",
            "  \"intent_ranking\": [\n",
            "    {\n",
            "      \"name\": \"choosing_item\",\n",
            "      \"confidence\": 0.3007420581625478\n",
            "    },\n",
            "    {\n",
            "      \"name\": \"toilet_enquiry\",\n",
            "      \"confidence\": 0.20530206949500832\n",
            "    },\n",
            "    {\n",
            "      \"name\": \"greet\",\n",
            "      \"confidence\": 0.19042210575798893\n",
            "    },\n",
            "    {\n",
            "      \"name\": \"restaurant_enquiry\",\n",
            "      \"confidence\": 0.11315654083553556\n",
            "    },\n",
            "    {\n",
            "      \"name\": \"accomodation_enquiry\",\n",
            "      \"confidence\": 0.0585478049989133\n",
            "    },\n",
            "    {\n",
            "      \"name\": \"goodbye\",\n",
            "      \"confidence\": 0.05692932724596039\n",
            "    },\n",
            "    {\n",
            "      \"name\": \"directions\",\n",
            "      \"confidence\": 0.04765888668237974\n",
            "    },\n",
            "    {\n",
            "      \"name\": \"supermarket\",\n",
            "      \"confidence\": 0.02724120682166649\n",
            "    }\n",
            "  ],\n",
            "  \"text\": \"x\"\n",
            "}\n"
          ]
        }
      ]
    },
    {
      "cell_type": "markdown",
      "metadata": {
        "id": "TGZycj1ZtBvM"
      },
      "source": [
        "This is the second part of the project where we would be dealing with stories, actions and templates so our bot can respond to queries appropriately. Stories is a path which countains intents and their respective actions to be taken.\n",
        "Actions are the the responses we want our bot to give after identifying intent.\n",
        "Templates are where we store all the actions.\n",
        "Slots are our bots memories which help it keep track of events."
      ]
    },
    {
      "cell_type": "code",
      "metadata": {
        "id": "RXw_5ojnxLl4",
        "colab": {
          "base_uri": "https://localhost:8080/"
        },
        "outputId": "7be84340-6e6e-47bd-f72f-611165f5fa85"
      },
      "source": [
        "# 2. Section_Intent/Action connection/mapping\n",
        "# Writing stories and saving it in the stories.md file\n",
        "\n",
        "stories_md = \"\"\"\n",
        "##  Greeting path             \n",
        "* greet              \n",
        "  - utter_greet\n",
        "\n",
        "## directions path\n",
        "* directions\n",
        "  - utter_menu\n",
        "* choosing_destination\n",
        "  - utter_destination_received\n",
        "\n",
        "## Enquires path\n",
        "* accomodation_enquiry\n",
        "  - utter_enquiry\n",
        "\n",
        "## supermarket path\n",
        "* supermarket\n",
        "  - utter_supermarket_inquiry  \n",
        "\n",
        "## restaurant path\n",
        "* restaurant_enquiry\n",
        "  - utter_restaurant_enquiry\n",
        "\n",
        "\n",
        "## toilet path\n",
        "* toilet_enquiry\n",
        "  - utter_toilet_location\n",
        "\n",
        "\n",
        "## say goodbye\n",
        "* goodbye\n",
        "  - utter_goodbye\n",
        "\n",
        "## fallback rule\n",
        "* bot_fallback\n",
        "  - action_default_fallback\n",
        "\n",
        "\"\"\"\n",
        "\n",
        "%store stories_md >stories.md"
      ],
      "execution_count": null,
      "outputs": [
        {
          "output_type": "stream",
          "name": "stdout",
          "text": [
            "Writing 'stories_md' (str) to file 'stories.md'.\n"
          ]
        }
      ]
    },
    {
      "cell_type": "markdown",
      "metadata": {
        "id": "BEqlG5lCTKJn"
      },
      "source": [
        "The domain is where we link together all our files for the chatbot. The uttar_default action is he action to be taken when the confidence value of all possible intentions is below the thereshold value set inn our configuration file under the fallback policy."
      ]
    },
    {
      "cell_type": "code",
      "metadata": {
        "colab": {
          "base_uri": "https://localhost:8080/"
        },
        "id": "0AT7yIyMNtMe",
        "outputId": "d32f211a-5c8d-4eb5-ec75-372ec6b7c39b"
      },
      "source": [
        "# 3. Section_Action description (describe bot resposes)\n",
        "# Writing all the intents,slots,entities,actions and templates to domain.yml\n",
        "\n",
        "domain_yml = \"\"\"\n",
        "intents:\n",
        "- greet\n",
        "- goodbye\n",
        "- directions\n",
        "- choosing_item\n",
        "- accomodation_enquiry\n",
        "- restaurant_enquiry\n",
        "- toilet_enquiry\n",
        "- supermarket\n",
        "\n",
        "slots:\n",
        "  group:\n",
        "    type: text\n",
        "\n",
        "entities:\n",
        "- group\n",
        "\n",
        "\n",
        "actions:\n",
        "- utter_greet\n",
        "- utter_menu\n",
        "- utter_destination_received\n",
        "- utter_enquiry\n",
        "- utter_toilet_location\n",
        "- utter_restaurant_enquiry\n",
        "- utter_goodbye\n",
        "- utter_default\n",
        "- utter_supermarket_inquiry\n",
        "\n",
        "templates:\n",
        "  utter_greet:\n",
        "  - text: \"\\n\\n Universal Ai Diploma Bot: \\n\\n Hey! Welcome to NRC Kubwa terminal . How may I help you ? \\n\\n \\n\\n You:\"\n",
        "\n",
        "  utter_supermarket_inquiry:\n",
        "  - text: \"\\n\\n Universal Ai Diploma Bot: \\n\\n The closest supermarket is Quickmart \\n\\n You:\"\n",
        "  - text: \"\\n\\n Universal Ai Diploma Bot: \\n\\n Quickmart opens at 9:00AM \\n\\n You:\"\n",
        "  \n",
        " \n",
        "  utter_menu:\n",
        "  - text: \"\\n\\n Universal Ai Diploma Bot: \\n\\n There is a bus terminal outside the station, it's just accross the road.  You can board a bus to the following destinations: \\n\\n 1. Wuse  2. Airport 3. Nyanya  4. Zuba  5. Asokoro  6. Maitama  7. Area one  8. Central area  8. Secretariat. \\n\\n Enter  the appropraite number to know when the next bus leaves the terminal. \\n\\n \\n\\n  You:\"\n",
        "\n",
        "  utter_destination_received:\n",
        "  - text: \"\\n\\n Universal Ai Diploma Bot: \\n\\n The next bus leaves in 15 minutes, do have a safe trip. \\n\\n \\n\\n You:\"\n",
        "\n",
        "  utter_goodbye:\n",
        "  - text: \"\\n\\n Universal Ai Diploma Bot: \\n\\n Thank you for choosing to transit with us. Waiting for your next visit. \\n\\n \\n\\n You:\"\n",
        "\n",
        "  utter_enquiry:\n",
        "  - text: \"\\n\\n Universal Ai Diploma Bot: \\n\\n Take a right turn from the exit, there are several hotels at your service. \\n\\n \\n\\n You:\"\n",
        "\n",
        "  utter_toilet_location:\n",
        "  - text: \"\\n\\n Universal Ai Diploma Bot: \\n\\n There is a toilet symbol on the extreme right from where you stand. \\n\\n \\n\\n You:\"\n",
        "\n",
        "  utter_restaurant_enquiry:\n",
        "  - text: \"\\n\\n Universal Ai Diploma Bot: \\n\\n There is a food court filled with a variety of rastaurants at the extreme left after the entrance. \\n\\n \\n\\n You: \"\n",
        "\n",
        "  utter_default:\n",
        "  - text: \"\\n\\n Universal Ai Diploma Bot: \\n\\n I'm sorry, I didn't quite understand that. Could you rephrase? \\n\\n You:\"\n",
        "\n",
        "\n",
        "\"\"\"\n",
        "\n",
        "%store domain_yml >domain.yml"
      ],
      "execution_count": null,
      "outputs": [
        {
          "output_type": "stream",
          "name": "stdout",
          "text": [
            "Writing 'domain_yml' (str) to file 'domain.yml'.\n"
          ]
        }
      ]
    },
    {
      "cell_type": "markdown",
      "metadata": {
        "id": "_Ho7iCP-UVTS"
      },
      "source": [
        "Here we import our policies and the Agent module. The Agent module is used to load the file, and passed to the 'agent' model. The 'agent' model is in turn trained with the data in the stories file."
      ]
    },
    {
      "cell_type": "code",
      "metadata": {
        "colab": {
          "base_uri": "https://localhost:8080/"
        },
        "id": "IftpE7U9Nybn",
        "outputId": "85b18e39-b185-4239-d468-e3702ec84366"
      },
      "source": [
        "# Import the policies and agent\n",
        "from rasa_core.policies import FallbackPolicy, MemoizationPolicy,KerasPolicy\n",
        "from rasa_core.agent import Agent\n",
        "\n",
        "# Initialize the model with `domain.yml`\n",
        "agent = Agent('domain.yml', policies=[MemoizationPolicy(), KerasPolicy(), ])\n",
        "\n",
        "# loading our  training dialogues from `stories.md` \n",
        "training_data = agent.load_data('stories.md')\n",
        "\n",
        "\n",
        "# Training the model\n",
        "agent.train(\n",
        "    training_data)\n",
        "    #validation_split=0.0,\n",
        "    #epochs=200)\n",
        "\n",
        "agent.persist('models/dialogue')"
      ],
      "execution_count": null,
      "outputs": [
        {
          "output_type": "stream",
          "name": "stderr",
          "text": [
            "Processed Story Blocks: 100%|██████████| 8/8 [00:00<00:00, 392.25it/s, # trackers=1]\n",
            "Processed Story Blocks: 100%|██████████| 8/8 [00:00<00:00, 248.45it/s, # trackers=8]\n",
            "Processed Story Blocks: 100%|██████████| 8/8 [00:00<00:00, 36.61it/s, # trackers=20]\n",
            "Processed Story Blocks: 100%|██████████| 8/8 [00:00<00:00, 131.21it/s, # trackers=18]\n",
            "Processed actions: 19it [00:00, 445.14it/s, # examples=19]\n"
          ]
        },
        {
          "output_type": "stream",
          "name": "stdout",
          "text": [
            "WARNING:tensorflow:From /usr/local/lib/python3.7/dist-packages/tensorflow/python/ops/resource_variable_ops.py:435: colocate_with (from tensorflow.python.framework.ops) is deprecated and will be removed in a future version.\n",
            "Instructions for updating:\n",
            "Colocations handled automatically by placer.\n",
            "WARNING:tensorflow:From /usr/local/lib/python3.7/dist-packages/tensorflow/python/keras/backend.py:4010: calling dropout (from tensorflow.python.ops.nn_ops) with keep_prob is deprecated and will be removed in a future version.\n",
            "Instructions for updating:\n",
            "Please use `rate` instead of `keep_prob`. Rate should be set to `rate = 1 - keep_prob`.\n",
            "_________________________________________________________________\n",
            "Layer (type)                 Output Shape              Param #   \n",
            "=================================================================\n",
            "masking (Masking)            (None, 5, 27)             0         \n",
            "_________________________________________________________________\n",
            "lstm (LSTM)                  (None, 32)                7680      \n",
            "_________________________________________________________________\n",
            "dense (Dense)                (None, 17)                561       \n",
            "_________________________________________________________________\n",
            "activation (Activation)      (None, 17)                0         \n",
            "=================================================================\n",
            "Total params: 8,241\n",
            "Trainable params: 8,241\n",
            "Non-trainable params: 0\n",
            "_________________________________________________________________\n",
            "WARNING:tensorflow:From /usr/local/lib/python3.7/dist-packages/tensorflow/python/ops/math_ops.py:3066: to_int32 (from tensorflow.python.ops.math_ops) is deprecated and will be removed in a future version.\n",
            "Instructions for updating:\n",
            "Use tf.cast instead.\n",
            "Epoch 1/100\n",
            "347/347 [==============================] - 1s 2ms/sample - loss: 2.8069 - acc: 0.1124\n",
            "Epoch 2/100\n",
            "347/347 [==============================] - 0s 240us/sample - loss: 2.6888 - acc: 0.4265\n",
            "Epoch 3/100\n",
            "347/347 [==============================] - 0s 193us/sample - loss: 2.5582 - acc: 0.4986\n",
            "Epoch 4/100\n",
            "347/347 [==============================] - 0s 202us/sample - loss: 2.3895 - acc: 0.5014\n",
            "Epoch 5/100\n",
            "347/347 [==============================] - 0s 211us/sample - loss: 2.1714 - acc: 0.5014\n",
            "Epoch 6/100\n",
            "347/347 [==============================] - 0s 195us/sample - loss: 1.9931 - acc: 0.5014\n",
            "Epoch 7/100\n",
            "347/347 [==============================] - 0s 195us/sample - loss: 1.9181 - acc: 0.5014\n",
            "Epoch 8/100\n",
            "347/347 [==============================] - 0s 213us/sample - loss: 1.8595 - acc: 0.5014\n",
            "Epoch 9/100\n",
            "347/347 [==============================] - 0s 200us/sample - loss: 1.8213 - acc: 0.5014\n",
            "Epoch 10/100\n",
            "347/347 [==============================] - 0s 218us/sample - loss: 1.7682 - acc: 0.5014\n",
            "Epoch 11/100\n",
            "347/347 [==============================] - 0s 349us/sample - loss: 1.7342 - acc: 0.5014\n",
            "Epoch 12/100\n",
            "347/347 [==============================] - 0s 338us/sample - loss: 1.7005 - acc: 0.5014\n",
            "Epoch 13/100\n",
            "347/347 [==============================] - 0s 302us/sample - loss: 1.6678 - acc: 0.5014\n",
            "Epoch 14/100\n",
            "347/347 [==============================] - 0s 339us/sample - loss: 1.6295 - acc: 0.5014\n",
            "Epoch 15/100\n",
            "347/347 [==============================] - 0s 209us/sample - loss: 1.6001 - acc: 0.5014\n",
            "Epoch 16/100\n",
            "347/347 [==============================] - 0s 218us/sample - loss: 1.5638 - acc: 0.5014\n",
            "Epoch 17/100\n",
            "347/347 [==============================] - 0s 207us/sample - loss: 1.5212 - acc: 0.5014\n",
            "Epoch 18/100\n",
            "347/347 [==============================] - 0s 213us/sample - loss: 1.4886 - acc: 0.5043\n",
            "Epoch 19/100\n",
            "347/347 [==============================] - 0s 196us/sample - loss: 1.4486 - acc: 0.5043\n",
            "Epoch 20/100\n",
            "347/347 [==============================] - 0s 220us/sample - loss: 1.3977 - acc: 0.5101\n",
            "Epoch 21/100\n",
            "347/347 [==============================] - 0s 212us/sample - loss: 1.3533 - acc: 0.5043\n",
            "Epoch 22/100\n",
            "347/347 [==============================] - 0s 202us/sample - loss: 1.3051 - acc: 0.5130\n",
            "Epoch 23/100\n",
            "347/347 [==============================] - 0s 218us/sample - loss: 1.2487 - acc: 0.5130\n",
            "Epoch 24/100\n",
            "347/347 [==============================] - 0s 197us/sample - loss: 1.1889 - acc: 0.5331\n",
            "Epoch 25/100\n",
            "347/347 [==============================] - 0s 218us/sample - loss: 1.1413 - acc: 0.6340\n",
            "Epoch 26/100\n",
            "347/347 [==============================] - 0s 242us/sample - loss: 1.1046 - acc: 0.6484\n",
            "Epoch 27/100\n",
            "347/347 [==============================] - 0s 225us/sample - loss: 1.0627 - acc: 0.7032\n",
            "Epoch 28/100\n",
            "347/347 [==============================] - 0s 226us/sample - loss: 1.0473 - acc: 0.7291\n",
            "Epoch 29/100\n",
            "347/347 [==============================] - 0s 222us/sample - loss: 1.0151 - acc: 0.7608\n",
            "Epoch 30/100\n",
            "347/347 [==============================] - 0s 211us/sample - loss: 0.9912 - acc: 0.7752\n",
            "Epoch 31/100\n",
            "347/347 [==============================] - 0s 201us/sample - loss: 0.9729 - acc: 0.7896\n",
            "Epoch 32/100\n",
            "347/347 [==============================] - 0s 213us/sample - loss: 0.9500 - acc: 0.8069\n",
            "Epoch 33/100\n",
            "347/347 [==============================] - 0s 224us/sample - loss: 0.9201 - acc: 0.8329\n",
            "Epoch 34/100\n",
            "347/347 [==============================] - 0s 209us/sample - loss: 0.9087 - acc: 0.8329\n",
            "Epoch 35/100\n",
            "347/347 [==============================] - 0s 205us/sample - loss: 0.9124 - acc: 0.8386\n",
            "Epoch 36/100\n",
            "347/347 [==============================] - 0s 217us/sample - loss: 0.8752 - acc: 0.8646\n",
            "Epoch 37/100\n",
            "347/347 [==============================] - 0s 199us/sample - loss: 0.8625 - acc: 0.8588\n",
            "Epoch 38/100\n",
            "347/347 [==============================] - 0s 222us/sample - loss: 0.8313 - acc: 0.8876\n",
            "Epoch 39/100\n",
            "347/347 [==============================] - 0s 230us/sample - loss: 0.8264 - acc: 0.8876\n",
            "Epoch 40/100\n",
            "347/347 [==============================] - 0s 225us/sample - loss: 0.8038 - acc: 0.8818\n",
            "Epoch 41/100\n",
            "347/347 [==============================] - 0s 209us/sample - loss: 0.7769 - acc: 0.9049\n",
            "Epoch 42/100\n",
            "347/347 [==============================] - 0s 200us/sample - loss: 0.7535 - acc: 0.8991\n",
            "Epoch 43/100\n",
            "347/347 [==============================] - 0s 198us/sample - loss: 0.7421 - acc: 0.9164\n",
            "Epoch 44/100\n",
            "347/347 [==============================] - 0s 198us/sample - loss: 0.7405 - acc: 0.8905\n",
            "Epoch 45/100\n",
            "347/347 [==============================] - 0s 198us/sample - loss: 0.7313 - acc: 0.8934\n",
            "Epoch 46/100\n",
            "347/347 [==============================] - 0s 206us/sample - loss: 0.6919 - acc: 0.9164\n",
            "Epoch 47/100\n",
            "347/347 [==============================] - 0s 207us/sample - loss: 0.6871 - acc: 0.9193\n",
            "Epoch 48/100\n",
            "347/347 [==============================] - 0s 205us/sample - loss: 0.6816 - acc: 0.9020\n",
            "Epoch 49/100\n",
            "347/347 [==============================] - 0s 494us/sample - loss: 0.6528 - acc: 0.9107\n",
            "Epoch 50/100\n",
            "347/347 [==============================] - 0s 438us/sample - loss: 0.6482 - acc: 0.9193\n",
            "Epoch 51/100\n",
            "347/347 [==============================] - 0s 336us/sample - loss: 0.6324 - acc: 0.9078\n",
            "Epoch 52/100\n",
            "347/347 [==============================] - 0s 358us/sample - loss: 0.6082 - acc: 0.9164\n",
            "Epoch 53/100\n",
            "347/347 [==============================] - 0s 357us/sample - loss: 0.6018 - acc: 0.8991\n",
            "Epoch 54/100\n",
            "347/347 [==============================] - 0s 351us/sample - loss: 0.5782 - acc: 0.9337\n",
            "Epoch 55/100\n",
            "347/347 [==============================] - 0s 318us/sample - loss: 0.5483 - acc: 0.9539\n",
            "Epoch 56/100\n",
            "347/347 [==============================] - 0s 340us/sample - loss: 0.5294 - acc: 0.9597\n",
            "Epoch 57/100\n",
            "347/347 [==============================] - 0s 385us/sample - loss: 0.5380 - acc: 0.9308\n",
            "Epoch 58/100\n",
            "347/347 [==============================] - 0s 459us/sample - loss: 0.5086 - acc: 0.9539\n",
            "Epoch 59/100\n",
            "347/347 [==============================] - 0s 331us/sample - loss: 0.4778 - acc: 0.9654\n",
            "Epoch 60/100\n",
            "347/347 [==============================] - 0s 342us/sample - loss: 0.4708 - acc: 0.9539\n",
            "Epoch 61/100\n",
            "347/347 [==============================] - 0s 368us/sample - loss: 0.5093 - acc: 0.9308\n",
            "Epoch 62/100\n",
            "347/347 [==============================] - 0s 331us/sample - loss: 0.4538 - acc: 0.9654\n",
            "Epoch 63/100\n",
            "347/347 [==============================] - 0s 352us/sample - loss: 0.4938 - acc: 0.9251\n",
            "Epoch 64/100\n",
            "347/347 [==============================] - 0s 336us/sample - loss: 0.4262 - acc: 0.9452\n",
            "Epoch 65/100\n",
            "347/347 [==============================] - 0s 341us/sample - loss: 0.4033 - acc: 0.9597\n",
            "Epoch 66/100\n",
            "347/347 [==============================] - 0s 409us/sample - loss: 0.4244 - acc: 0.9395\n",
            "Epoch 67/100\n",
            "347/347 [==============================] - 0s 398us/sample - loss: 0.3908 - acc: 0.9424\n",
            "Epoch 68/100\n",
            "347/347 [==============================] - 0s 325us/sample - loss: 0.3882 - acc: 0.9510\n",
            "Epoch 69/100\n",
            "347/347 [==============================] - 0s 404us/sample - loss: 0.3606 - acc: 0.9654\n",
            "Epoch 70/100\n",
            "347/347 [==============================] - 0s 385us/sample - loss: 0.3646 - acc: 0.9539\n",
            "Epoch 71/100\n",
            "347/347 [==============================] - 0s 387us/sample - loss: 0.3395 - acc: 0.9683\n",
            "Epoch 72/100\n",
            "347/347 [==============================] - 0s 360us/sample - loss: 0.3648 - acc: 0.9481\n",
            "Epoch 73/100\n",
            "347/347 [==============================] - 0s 375us/sample - loss: 0.3515 - acc: 0.9539\n",
            "Epoch 74/100\n",
            "347/347 [==============================] - 0s 371us/sample - loss: 0.3746 - acc: 0.9337\n",
            "Epoch 75/100\n",
            "347/347 [==============================] - 0s 356us/sample - loss: 0.3124 - acc: 0.9741\n",
            "Epoch 76/100\n",
            "347/347 [==============================] - 0s 403us/sample - loss: 0.2994 - acc: 0.9625\n",
            "Epoch 77/100\n",
            "347/347 [==============================] - 0s 487us/sample - loss: 0.2751 - acc: 0.9654\n",
            "Epoch 78/100\n",
            "347/347 [==============================] - 0s 399us/sample - loss: 0.2764 - acc: 0.9568\n",
            "Epoch 79/100\n",
            "347/347 [==============================] - 0s 337us/sample - loss: 0.2939 - acc: 0.9568\n",
            "Epoch 80/100\n",
            "347/347 [==============================] - 0s 355us/sample - loss: 0.2696 - acc: 0.9510\n",
            "Epoch 81/100\n",
            "347/347 [==============================] - 0s 446us/sample - loss: 0.2466 - acc: 0.9827\n",
            "Epoch 82/100\n",
            "347/347 [==============================] - 0s 406us/sample - loss: 0.2598 - acc: 0.9625\n",
            "Epoch 83/100\n",
            "347/347 [==============================] - 0s 504us/sample - loss: 0.2409 - acc: 0.9683\n",
            "Epoch 84/100\n",
            "347/347 [==============================] - 0s 531us/sample - loss: 0.2696 - acc: 0.9452\n",
            "Epoch 85/100\n",
            "347/347 [==============================] - 0s 498us/sample - loss: 0.2164 - acc: 0.9741\n",
            "Epoch 86/100\n",
            "347/347 [==============================] - 0s 462us/sample - loss: 0.2291 - acc: 0.9625\n",
            "Epoch 87/100\n",
            "347/347 [==============================] - 0s 461us/sample - loss: 0.2575 - acc: 0.9568\n",
            "Epoch 88/100\n",
            "347/347 [==============================] - 0s 494us/sample - loss: 0.2443 - acc: 0.9625\n",
            "Epoch 89/100\n",
            "347/347 [==============================] - 0s 455us/sample - loss: 0.2274 - acc: 0.9568\n",
            "Epoch 90/100\n",
            "347/347 [==============================] - 0s 464us/sample - loss: 0.2133 - acc: 0.9625\n",
            "Epoch 91/100\n",
            "347/347 [==============================] - 0s 407us/sample - loss: 0.2111 - acc: 0.9539\n",
            "Epoch 92/100\n",
            "347/347 [==============================] - 0s 453us/sample - loss: 0.2165 - acc: 0.9539\n",
            "Epoch 93/100\n",
            "347/347 [==============================] - 0s 491us/sample - loss: 0.2164 - acc: 0.9481\n",
            "Epoch 94/100\n",
            "347/347 [==============================] - 0s 338us/sample - loss: 0.2424 - acc: 0.9395\n",
            "Epoch 95/100\n",
            "347/347 [==============================] - 0s 363us/sample - loss: 0.2292 - acc: 0.9510\n",
            "Epoch 96/100\n",
            "347/347 [==============================] - 0s 380us/sample - loss: 0.2143 - acc: 0.9625\n",
            "Epoch 97/100\n",
            "347/347 [==============================] - 0s 529us/sample - loss: 0.2015 - acc: 0.9712\n",
            "Epoch 98/100\n",
            "347/347 [==============================] - 0s 541us/sample - loss: 0.1813 - acc: 0.9625\n",
            "Epoch 99/100\n",
            "347/347 [==============================] - 0s 491us/sample - loss: 0.1713 - acc: 0.9798\n",
            "Epoch 100/100\n",
            "347/347 [==============================] - 0s 351us/sample - loss: 0.1663 - acc: 0.9683\n"
          ]
        }
      ]
    },
    {
      "cell_type": "markdown",
      "metadata": {
        "id": "l8fggCl0U7W0"
      },
      "source": [
        "Install version 2.10.0 of h5py package"
      ]
    },
    {
      "cell_type": "code",
      "metadata": {
        "colab": {
          "base_uri": "https://localhost:8080/",
          "height": 329
        },
        "id": "-LM7oL0kv3Iw",
        "outputId": "e95afc6b-8aee-4071-f68a-a3c021ba247b"
      },
      "source": [
        "!pip uninstall h5py\n",
        "!pip install h5py==2.10.0"
      ],
      "execution_count": null,
      "outputs": [
        {
          "output_type": "stream",
          "name": "stdout",
          "text": [
            "Found existing installation: h5py 2.10.0\n",
            "Uninstalling h5py-2.10.0:\n",
            "  Would remove:\n",
            "    /usr/local/lib/python3.7/dist-packages/h5py-2.10.0.dist-info/*\n",
            "    /usr/local/lib/python3.7/dist-packages/h5py/*\n",
            "Proceed (y/n)? y\n",
            "  Successfully uninstalled h5py-2.10.0\n",
            "Collecting h5py==2.10.0\n",
            "  Using cached h5py-2.10.0-cp37-cp37m-manylinux1_x86_64.whl (2.9 MB)\n",
            "Requirement already satisfied: six in /usr/local/lib/python3.7/dist-packages (from h5py==2.10.0) (1.15.0)\n",
            "Requirement already satisfied: numpy>=1.7 in /usr/local/lib/python3.7/dist-packages (from h5py==2.10.0) (1.19.5)\n",
            "Installing collected packages: h5py\n",
            "Successfully installed h5py-2.10.0\n"
          ]
        },
        {
          "output_type": "display_data",
          "data": {
            "application/vnd.colab-display-data+json": {
              "pip_warning": {
                "packages": [
                  "h5py"
                ]
              }
            }
          },
          "metadata": {}
        }
      ]
    },
    {
      "cell_type": "markdown",
      "metadata": {
        "id": "2ZP69uZMVbSL"
      },
      "source": [
        "Load the trained model"
      ]
    },
    {
      "cell_type": "code",
      "metadata": {
        "id": "FelGadA5uZPh",
        "colab": {
          "base_uri": "https://localhost:8080/"
        },
        "outputId": "d483cf0a-544a-46e5-e682-7e767a6867c6"
      },
      "source": [
        "#Starting the Bot\n",
        "from rasa_core.agent import Agent\n",
        "agent = Agent.load('models/dialogue', interpreter=model_directory)"
      ],
      "execution_count": null,
      "outputs": [
        {
          "output_type": "stream",
          "name": "stdout",
          "text": [
            "\n",
            "WARNING: The TensorFlow contrib module will not be included in TensorFlow 2.0.\n",
            "For more information, please see:\n",
            "  * https://github.com/tensorflow/community/blob/master/rfcs/20180907-contrib-sunset.md\n",
            "  * https://github.com/tensorflow/addons\n",
            "If you depend on functionality not listed there, please file an issue.\n",
            "\n"
          ]
        }
      ]
    },
    {
      "cell_type": "markdown",
      "metadata": {
        "id": "jxgGAybxVnG_"
      },
      "source": [
        "Write a function to tale inputs for the chatbot and gives out an output while stopping when 'stop' is typed in."
      ]
    },
    {
      "cell_type": "code",
      "metadata": {
        "colab": {
          "base_uri": "https://localhost:8080/"
        },
        "id": "c1nOPTca0QBA",
        "outputId": "8c0b669a-c06c-4f7c-aa10-8ddc84b0e368"
      },
      "source": [
        "print(\"Your bot is ready to talk! Type your messages here or send 'stop'\" + \"\\n\\n\" + \"You:\")\n",
        "while True:\n",
        "    a = input()\n",
        "    if a == 'stop':\n",
        "        break\n",
        "    responses = agent.handle_message(a)\n",
        "    for response in responses:\n",
        "        print(response[\"text\"])"
      ],
      "execution_count": null,
      "outputs": [
        {
          "name": "stdout",
          "output_type": "stream",
          "text": [
            "Your bot is ready to talk! Type your messages here or send 'stop'\n",
            "\n",
            "You:\n",
            "Where is the closest supermarket?\n",
            "\n",
            "Universal Ai Diploma Bot:\n",
            "The closest supermarket is Quickmart\n",
            "You:\n",
            "When does the supermarket open?\n",
            "\n",
            "Universal Ai Diploma Bot:\n",
            "Quickmart opens at 9:00AM\n",
            "You:\n",
            "stop\n"
          ]
        }
      ]
    },
    {
      "cell_type": "code",
      "metadata": {
        "id": "1O086vj-kuqm"
      },
      "source": [
        ""
      ],
      "execution_count": null,
      "outputs": []
    }
  ]
}